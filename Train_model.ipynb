{
 "cells": [
  {
   "cell_type": "code",
   "execution_count": 3,
   "id": "997b958f-3a2c-483f-b62d-24c7e999e415",
   "metadata": {},
   "outputs": [],
   "source": [
    "import tensorflow as tf, cv2\n",
    "from tensorflow.keras.layers import Input, Conv2D, MaxPooling2D, UpSampling2D, concatenate, Dropout\n",
    "from tensorflow.keras.models import Model"
   ]
  },
  {
   "cell_type": "code",
   "execution_count": 4,
   "id": "5c67bd42-43ec-4fd3-aaf2-8568232a0823",
   "metadata": {},
   "outputs": [
    {
     "data": {
      "text/plain": [
       "[PhysicalDevice(name='/physical_device:GPU:0', device_type='GPU')]"
      ]
     },
     "execution_count": 4,
     "metadata": {},
     "output_type": "execute_result"
    }
   ],
   "source": [
    "tf.config.list_physical_devices('GPU')"
   ]
  },
  {
   "cell_type": "code",
   "execution_count": null,
   "id": "7432c9a8-9b54-4b76-8ad4-3454d35906ec",
   "metadata": {},
   "outputs": [],
   "source": [
    "def multi_scale_u_net(input_shape=(256, 256, 1), num_classes=1):\n",
    "    inputs = Input(shape=input_shape)\n",
    "\n",
    "    conv1 = Conv2D(32, (3, 3), activation='relu', padding='same')(inputs)\n",
    "    conv1 = Conv2D(32, (3, 3), activation='relu', padding='same')(conv1)\n",
    "    pool1 = MaxPooling2D(pool_size=(2, 2))(conv1)\n",
    "\n",
    "    conv2 = Conv2D(64, (3, 3), activation='relu', padding='same')(pool1)\n",
    "    conv2 = Conv2D(64, (3, 3), activation='relu', padding='same')(conv2)\n",
    "    pool2 = MaxPooling2D(pool_size=(2, 2))(conv2)\n",
    "\n",
    "    bottleneck = Conv2D(128, (3, 3), activation='relu', padding='same')(pool2)\n",
    "    bottleneck = Conv2D(128, (3, 3), activation='relu', padding='same')(bottleneck)\n",
    "\n",
    "    up1 = UpSampling2D(size=(2, 2))(bottleneck)\n",
    "    up1 = concatenate([up1, conv2])\n",
    "\n",
    "    conv3 = Conv2D(64, (3, 3), activation='relu', padding='same')(up1)\n",
    "    conv3 = Conv2D(64, (3, 3), activation='relu', padding='same')(conv3)\n",
    "\n",
    "    up2 = UpSampling2D(size=(2, 2))(conv3)\n",
    "    up2 = concatenate([up2, conv1])\n",
    "\n",
    "    conv4 = Conv2D(32, (3, 3), activation='relu', padding='same')(up2)\n",
    "    conv4 = Conv2D(32, (3, 3), activation='relu', padding='same')(conv4)\n",
    "\n",
    "    outputs = Conv2D(num_classes, (1, 1), activation='sigmoid')(conv4)\n",
    "\n",
    "    model = Model(inputs=[inputs], outputs=[outputs])\n",
    "\n",
    "    return model"
   ]
  }
 ],
 "metadata": {
  "kernelspec": {
   "display_name": "Python 3 (ipykernel)",
   "language": "python",
   "name": "python3"
  },
  "language_info": {
   "codemirror_mode": {
    "name": "ipython",
    "version": 3
   },
   "file_extension": ".py",
   "mimetype": "text/x-python",
   "name": "python",
   "nbconvert_exporter": "python",
   "pygments_lexer": "ipython3",
   "version": "3.12.8"
  }
 },
 "nbformat": 4,
 "nbformat_minor": 5
}
